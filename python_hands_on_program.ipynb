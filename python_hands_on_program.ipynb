{
  "nbformat": 4,
  "nbformat_minor": 0,
  "metadata": {
    "colab": {
      "provenance": [],
      "toc_visible": true,
      "authorship_tag": "ABX9TyORZwn3mjlscuTE7WlaOhlA",
      "include_colab_link": true
    },
    "kernelspec": {
      "name": "python3",
      "display_name": "Python 3"
    },
    "language_info": {
      "name": "python"
    }
  },
  "cells": [
    {
      "cell_type": "markdown",
      "metadata": {
        "id": "view-in-github",
        "colab_type": "text"
      },
      "source": [
        "<a href=\"https://colab.research.google.com/github/Dhivyakanth/C-program-/blob/main/python_hands_on_program.ipynb\" target=\"_parent\"><img src=\"https://colab.research.google.com/assets/colab-badge.svg\" alt=\"Open In Colab\"/></a>"
      ]
    },
    {
      "cell_type": "markdown",
      "source": [
        "1. Write a program to create a new string made of an input string’s first, middle, and last character.\n",
        "\tEg:  str1= ”PRADEEP”\n",
        "\tOutput: PDP\n"
      ],
      "metadata": {
        "id": "qlUEbsg_4tam"
      }
    },
    {
      "cell_type": "code",
      "execution_count": null,
      "metadata": {
        "colab": {
          "base_uri": "https://localhost:8080/"
        },
        "id": "7b-w-qdp4sp9",
        "outputId": "c2b5b24c-62a1-40a3-db4b-0c4621eda14a"
      },
      "outputs": [
        {
          "output_type": "stream",
          "name": "stdout",
          "text": [
            "Enter a string:PRADEEP\n",
            "PDP\n"
          ]
        }
      ],
      "source": [
        "str=input(\"Enter a string:\")\n",
        "a=len(str)//2\n",
        "print(str[0]+str[a]+str[-1])"
      ]
    },
    {
      "cell_type": "markdown",
      "source": [],
      "metadata": {
        "id": "IDgWDebSa6Wv"
      }
    },
    {
      "cell_type": "markdown",
      "source": [
        "\n",
        "2. Write a program to create a new string made of the middle three characters of an input string.\n",
        "\tEg: str1= “PRADEEP”                     \n",
        "\tOutput: ADE\n"
      ],
      "metadata": {
        "id": "s7zkrCXv5Mje"
      }
    },
    {
      "cell_type": "code",
      "source": [
        "str=input(\"Enter a string:\")\n",
        "a=len(str)//2\n",
        "b=a-1\n",
        "c=a+1\n",
        "print(str[b]+str[a]+str[c])\n"
      ],
      "metadata": {
        "colab": {
          "base_uri": "https://localhost:8080/"
        },
        "id": "vrx1ko8f5Qyg",
        "outputId": "4f13d417-7f13-4361-d153-c191d6f31e7e"
      },
      "execution_count": null,
      "outputs": [
        {
          "output_type": "stream",
          "name": "stdout",
          "text": [
            "Enter a string:PRADEEP\n",
            "ADE\n"
          ]
        }
      ]
    },
    {
      "cell_type": "markdown",
      "source": [
        "\n",
        "3. Given two strings, str1 and str2. Write a program to create a new string str3 by appending str2 in the middle of str1.\n",
        "\tEg: str1= ”STAR”                                str2= “SUPER”\n",
        "\tOutput:   STSUPERAR\n"
      ],
      "metadata": {
        "id": "ItEvz2fH5nPy"
      }
    },
    {
      "cell_type": "code",
      "source": [
        "a=input(\"Enter a string:\\n\")\n",
        "b=input(\"Enter a string:\\n\")\n",
        "d=len(a)//2\n",
        "c=a[0:d]\n",
        "e=a[d:len(a)]\n",
        "print(c+b+e)\n"
      ],
      "metadata": {
        "colab": {
          "base_uri": "https://localhost:8080/"
        },
        "id": "OFTomDat5pNo",
        "outputId": "8f9f41f2-f1fb-4d43-f845-c8b95529e163"
      },
      "execution_count": null,
      "outputs": [
        {
          "output_type": "stream",
          "name": "stdout",
          "text": [
            "Enter a string:\n",
            "STAR\n",
            "Enter a string:\n",
            "SUPER\n",
            "STSUPERAR\n"
          ]
        }
      ]
    },
    {
      "cell_type": "markdown",
      "source": [
        "4. Given two strings, str1 and str2, write a program to return a new string made of str1 and str2’s first, middle, and last characters.\n",
        "\tEg: str1= “LEO”                                  str2= “DAS”\n",
        "\tOutput: LDEAOS\n"
      ],
      "metadata": {
        "id": "voufcXpN505m"
      }
    },
    {
      "cell_type": "code",
      "source": [
        "a=input(\"Enter a string:\\n\")\n",
        "b=input(\"Enter a string:\\n\")\n",
        "for i in range(len(a)):\n",
        "    c=a[i]+b[i]\n",
        "    print(c,end=\"\")\n"
      ],
      "metadata": {
        "colab": {
          "base_uri": "https://localhost:8080/"
        },
        "id": "n_V3QA6B55Rd",
        "outputId": "a1c80d30-9095-4258-b0b1-4be8da6fb0f1"
      },
      "execution_count": null,
      "outputs": [
        {
          "output_type": "stream",
          "name": "stdout",
          "text": [
            "Enter a string:\n",
            "LEO\n",
            "Enter a string:\n",
            "DAS\n",
            "LDEAOS"
          ]
        }
      ]
    },
    {
      "cell_type": "markdown",
      "source": [
        "\n",
        "5. Given two strings, str1 and str2, write a program to return a new string made of str1 and str2’s in reverse order.\n",
        "\tEg: str1= ”SUPER”                                         str2= ”STAR”\n",
        "\tOutput: RATSREPUS\n"
      ],
      "metadata": {
        "id": "uUp3Vw8t6Bbp"
      }
    },
    {
      "cell_type": "code",
      "source": [
        "a=input(\"Enter a string:\\n\")\n",
        "b=input(\"Enter a string:\\n\")\n",
        "c=a[::-1]\n",
        "d=b[::-1]\n",
        "print(d+c)"
      ],
      "metadata": {
        "colab": {
          "base_uri": "https://localhost:8080/"
        },
        "id": "l1iJxXYJ6Hi9",
        "outputId": "8de8661c-3cf7-4e3c-c46e-c3552c5e0ece"
      },
      "execution_count": null,
      "outputs": [
        {
          "output_type": "stream",
          "name": "stdout",
          "text": [
            "Enter a string:\n",
            "SUPER\n",
            "Enter a string:\n",
            "STAR\n",
            "RATSREPUS\n"
          ]
        }
      ]
    },
    {
      "cell_type": "markdown",
      "source": [
        "6. Count all letters, digits, and special symbols from a given string\n",
        "str1 = \"P@#yn26at^&i5ve\"\n",
        "Outcome:\n",
        "Total counts of chars, digits, and symbols\n",
        "Chars = 8\n",
        "Digits = 3\n",
        "Symbol = 4\n"
      ],
      "metadata": {
        "id": "UMDibIvV6P3o"
      }
    },
    {
      "cell_type": "code",
      "source": [
        "a=input(\"Enter a string:\\n\")\n",
        "charcount=0\n",
        "digitcount=0\n",
        "symbolcount=0\n",
        "for i in a:\n",
        "    if i.isalpha():\n",
        "        charcount+=1\n",
        "    elif i.isalnum():\n",
        "        digitcount+=1\n",
        "    else:\n",
        "        symbolcount+=1\n",
        "print(charcount)\n",
        "print(digitcount)\n",
        "print(symbolcount)\n",
        "\n"
      ],
      "metadata": {
        "colab": {
          "base_uri": "https://localhost:8080/"
        },
        "id": "D0Y3grAX6Uci",
        "outputId": "59e86e60-a4fa-4ccb-922a-ff5af986e807"
      },
      "execution_count": null,
      "outputs": [
        {
          "output_type": "stream",
          "name": "stdout",
          "text": [
            "Enter a string:\n",
            "P@#yn26at^&i5ve\n",
            "8\n",
            "3\n",
            "4\n"
          ]
        }
      ]
    },
    {
      "cell_type": "markdown",
      "source": [
        "7. Given two strings, s1 and s2. Write a program to create a new string s3 made of the first char of s1, then the last char of s2, Next, the second char of s1 and second last char of s2, and so on. Any leftover chars go at the end of the result.\n",
        "s1 = \"Abc\"\n",
        "s2 = \"Xyz\"\n",
        "Output:\n",
        "AzbycX\n",
        "\n"
      ],
      "metadata": {
        "id": "yYqNhuKI6d9R"
      }
    },
    {
      "cell_type": "code",
      "source": [
        "a=input(\"Enter a string: \\n\")\n",
        "b=input(\"Enter a string: \\n\")\n",
        "c=b[::-1]\n",
        "for i in range(len(a)):\n",
        "    d=a[i]+c[i]\n",
        "    print(d,end=\"\")\n"
      ],
      "metadata": {
        "colab": {
          "base_uri": "https://localhost:8080/"
        },
        "id": "L9qIF9N36h3g",
        "outputId": "5c1e2ab3-3a75-4453-a77e-e9dd3760c482"
      },
      "execution_count": null,
      "outputs": [
        {
          "output_type": "stream",
          "name": "stdout",
          "text": [
            "Enter a string: \n",
            "Abc\n",
            "Enter a string: \n",
            "Xyz\n",
            "AzbycX"
          ]
        }
      ]
    },
    {
      "cell_type": "markdown",
      "source": [
        "\n",
        "8. Write a program to calculate Employee’s bonus calculation for the details given below\n",
        "Experience\tBonus (%)\n",
        "More than 8 years\t10 %\n",
        "More than 4 years\t7%\n",
        "More than 2 years\t4%\n",
        "\n",
        "\n",
        "\n"
      ],
      "metadata": {
        "id": "YLA75zaa6sRz"
      }
    },
    {
      "cell_type": "code",
      "source": [
        "n=int(input(\"Enter no of years:\\n\"))\n",
        "a=int(input(\"Enter salary:\\n\"))\n",
        "b=a*(10/100)\n",
        "c=a*(7/100)\n",
        "d=a*(4/100)\n",
        "if(n>8):\n",
        "    print(\"10% bonus is:\",b)\n",
        "elif(n>4):\n",
        "    print(\"7% bonus is:\",c)\n",
        "elif(n>2):\n",
        "    print(\"4% bonus is:\",d)\n",
        "else:\n",
        "    print(\"Invalid\")"
      ],
      "metadata": {
        "colab": {
          "base_uri": "https://localhost:8080/"
        },
        "id": "wk1Lm9zb61Gr",
        "outputId": "47d67399-25d6-47d4-eea5-75d28c9d44a7"
      },
      "execution_count": null,
      "outputs": [
        {
          "output_type": "stream",
          "name": "stdout",
          "text": [
            "Enter no of years:\n",
            "9\n",
            "Enter salary:\n",
            "12000\n",
            "10% bonus is: 1200.0\n"
          ]
        }
      ]
    },
    {
      "cell_type": "markdown",
      "source": [
        "9. Write a program to calculate the electricity bill (accept number of units from user) according to the following criteria:\n",
        "\n",
        "Units\tPrice\n",
        "First 100 units\tNo charge\n",
        "Next 100 units\tRs.5 per unit\n",
        "After 200 units\tRs.10 per unit\n",
        "(For example, if input unit is 350, then the total bill amount is Rs.2000)\n",
        "\n",
        "\n",
        "\n",
        "\n",
        "\n"
      ],
      "metadata": {
        "id": "G1pUON9U7CEk"
      }
    },
    {
      "cell_type": "code",
      "source": [
        "n=int(input(\"Enter no of units:\\n\"))\n",
        "if(n<100):\n",
        "    print(\"No charge\")\n",
        "else:\n",
        "    if(n>=100 and n<200):\n",
        "        print(f\"The charge for{n} units is:\",((n-100)*5))\n",
        "    elif(n>=200):\n",
        "        print(f\"The charge for {n} units is:\",((n-200)*10)+500)\n",
        "    else:\n",
        "        print(\"not valid\")"
      ],
      "metadata": {
        "colab": {
          "base_uri": "https://localhost:8080/"
        },
        "id": "YeGj4U7q7dtN",
        "outputId": "17f60ea6-7f73-4c5f-8587-00de541d54b9"
      },
      "execution_count": null,
      "outputs": [
        {
          "output_type": "stream",
          "name": "stdout",
          "text": [
            "Enter no of units:\n",
            "350\n",
            "The charge for 350 units is: 2000\n"
          ]
        }
      ]
    },
    {
      "cell_type": "markdown",
      "source": [
        "10. Accept the marked price from the user and calculate the Net amount as (Marked Price - Discount) to pay according to following criteria:\n",
        "Marked Price\tDiscount\n",
        ">10000\t20%\n",
        "\n",
        ">7000 and <=10000\t15%\n",
        "\n",
        "<=7000\t10%\n",
        "\n",
        "\n",
        "\n"
      ],
      "metadata": {
        "id": "4N97x5RR7r_2"
      }
    },
    {
      "cell_type": "code",
      "source": [
        "a=int(input(\"Enter Marked amount:\\n\"))\n",
        "if(a>10000):\n",
        "    b=(a-(a*(20/100)))\n",
        "    print(\"The Netamount is:\",b)\n",
        "elif(a>7000 and a<=10000):\n",
        "    c=(a-(a*(15/100)))\n",
        "    print(\"The Netamount is:\",c)\n",
        "elif(a<=7000):\n",
        "    d=(a-(a*(10/100)))\n",
        "    print(\"The Netamount is:\",d)\n",
        "else:\n",
        "    print(\"Enter valid input\")"
      ],
      "metadata": {
        "colab": {
          "base_uri": "https://localhost:8080/"
        },
        "id": "MXM5ENnW74KC",
        "outputId": "31529bfe-fbb8-4d50-e652-a14dedced0be"
      },
      "execution_count": null,
      "outputs": [
        {
          "output_type": "stream",
          "name": "stdout",
          "text": [
            "Enter Marked amount:\n",
            "12000\n",
            "The Netamount is: 9600.0\n"
          ]
        }
      ]
    },
    {
      "cell_type": "markdown",
      "source": [
        "\n",
        "11. Write a program to find the given number is prime number or not.\n"
      ],
      "metadata": {
        "id": "fm5m68b38ZLg"
      }
    },
    {
      "cell_type": "code",
      "source": [
        "num=int(input(\"Enter a number:\\n\"))\n",
        "a = False\n",
        "if num == 1:\n",
        "    print(num, \"is not a prime number\")\n",
        "elif num > 1:\n",
        "    for i in range(2, num):\n",
        "        if (num % i) == 0:\n",
        "            a = True\n",
        "            break\n",
        "    if a:\n",
        "        print(num, \"is not a prime number\")\n",
        "    else:\n",
        "        print(num, \"is a prime number\")\n",
        "\n"
      ],
      "metadata": {
        "colab": {
          "base_uri": "https://localhost:8080/"
        },
        "id": "ogKQ7_N_8dtC",
        "outputId": "3e221046-5f57-4969-e398-5ee75d396f6e"
      },
      "execution_count": null,
      "outputs": [
        {
          "output_type": "stream",
          "name": "stdout",
          "text": [
            "Enter a number:\n",
            "11\n",
            "11 is a prime number\n"
          ]
        }
      ]
    },
    {
      "cell_type": "markdown",
      "source": [
        "12. Write a program to display all prime numbers within a range"
      ],
      "metadata": {
        "id": "OpqK_SBK8onG"
      }
    },
    {
      "cell_type": "code",
      "source": [
        "a= int(input (\"Enter starting value: \"))\n",
        "b= int(input (\"Enter last Value: \"))\n",
        "\n",
        "print (\"The Prime Numbers in the range are: \")\n",
        "for i in range (a,b+1):\n",
        "    if i > 1:\n",
        "        for j in range (2,i):\n",
        "            if (i%j) == 0:\n",
        "                break\n",
        "        else:\n",
        "            print (i)"
      ],
      "metadata": {
        "colab": {
          "base_uri": "https://localhost:8080/"
        },
        "id": "-qZWlnyO8ugH",
        "outputId": "83b347a5-c110-4ddd-d97b-14a07552fcb2"
      },
      "execution_count": null,
      "outputs": [
        {
          "output_type": "stream",
          "name": "stdout",
          "text": [
            "Enter starting value: 10\n",
            "Enter last Value: 30\n",
            "The Prime Numbers in the range are: \n",
            "11\n",
            "13\n",
            "17\n",
            "19\n",
            "23\n",
            "29\n"
          ]
        }
      ]
    },
    {
      "cell_type": "markdown",
      "source": [
        "13. Write a program to reverse a number? Example: 3256 will be printed as \t6523 (reverse order)"
      ],
      "metadata": {
        "id": "VgHv9e2582_8"
      }
    },
    {
      "cell_type": "code",
      "source": [
        "a=int(input())\n",
        "sum=0\n",
        "while(a!=0):\n",
        "    sum=sum*10+(a%10)\n",
        "    a//=10\n",
        "print(sum)\n"
      ],
      "metadata": {
        "colab": {
          "base_uri": "https://localhost:8080/"
        },
        "id": "z_9Y6jwI8-qt",
        "outputId": "faf772cb-decc-4a79-a573-db23bf37ba16"
      },
      "execution_count": null,
      "outputs": [
        {
          "output_type": "stream",
          "name": "stdout",
          "text": [
            "3256\n",
            "6523\n"
          ]
        }
      ]
    },
    {
      "cell_type": "markdown",
      "source": [
        "14. Write a program to print the following pattern\n",
        "\t\t    *         \n",
        "          * * *       \n",
        "         * * * * *     \n",
        "        * * * * * * *   \n",
        "       * * * * * * * * *"
      ],
      "metadata": {
        "id": "DdVMn7789HXR"
      }
    },
    {
      "cell_type": "code",
      "source": [
        "for i in range(5):\n",
        "    for j in range(4-i):\n",
        "        print(\" \",end=\" \")\n",
        "    for k in range(i+1):\n",
        "        print(\"*\",end=\" \")\n",
        "    for x in range(i):\n",
        "        print(\"*\",end=\" \")\n",
        "    for n in range(4-i):\n",
        "        print(\" \",end=\" \")\n",
        "    print()"
      ],
      "metadata": {
        "colab": {
          "base_uri": "https://localhost:8080/"
        },
        "id": "iWOLrKe99W1s",
        "outputId": "9b980abf-d9a2-4d30-f399-72db05fc7699"
      },
      "execution_count": null,
      "outputs": [
        {
          "output_type": "stream",
          "name": "stdout",
          "text": [
            "        *         \n",
            "      * * *       \n",
            "    * * * * *     \n",
            "  * * * * * * *   \n",
            "* * * * * * * * * \n"
          ]
        }
      ]
    },
    {
      "cell_type": "markdown",
      "source": [
        "15.  Write a program to print the Fibonacci Series up to 10 terms."
      ],
      "metadata": {
        "id": "-1O6ODDV9l5g"
      }
    },
    {
      "cell_type": "code",
      "source": [
        "n=int(input(\"Enter a:\\n\"))\n",
        "a=0\n",
        "b=1\n",
        "if n<=1:\n",
        "    print(a)\n",
        "    print(b)\n",
        "else:\n",
        "    print(a)\n",
        "    print(b)\n",
        "    for i in range(3,n+1):\n",
        "        res=a+b\n",
        "        a=b\n",
        "        b=res\n",
        "        print(res)\n"
      ],
      "metadata": {
        "colab": {
          "base_uri": "https://localhost:8080/"
        },
        "id": "RbVUzVUu9rv1",
        "outputId": "e3474853-84a4-4de3-a93a-39289419b8ed"
      },
      "execution_count": null,
      "outputs": [
        {
          "output_type": "stream",
          "name": "stdout",
          "text": [
            "Enter a:\n",
            "10\n",
            "0\n",
            "1\n",
            "1\n",
            "2\n",
            "3\n",
            "5\n",
            "8\n",
            "13\n",
            "21\n",
            "34\n"
          ]
        }
      ]
    },
    {
      "cell_type": "markdown",
      "source": [
        "Python – List, Tuple, Set, Dictionary\n",
        "\n",
        "1.  Create a list of first 10 natural numbers. And write a program to find the lists of odd numbers and even numbers separately. And, to find the square of its odd and even lists.\n",
        "\n",
        "2.  Write a program to find the largest and smallest number in the list without using the in-built function.\n",
        "\n",
        "3.  Write a program to find the second largest and second smallest number in the list without using the in-built function.\n",
        "\n",
        "4. Write a program to sort elements stored in the list as Ascending order and Descending order without using the in-built function (sort ()).                \n",
        "Eg: [5,3,7,9,8,4,2]\n",
        "Output: [2,3,4,5,7,8,9] – Ascending Order,\n",
        "\t  [9,8,7,5,4,3,2] – Descending Order\n",
        "\n",
        "5. Find the index position of the specific number stored in the list.\n",
        "Eg: a= [45,67,83,24,55,87,77,34]\n",
        "What is the position of 55?\n",
        "Output: 4\n",
        "\n",
        "6. Find most frequent element present in a list.\n",
        "Eg: a= [4,5,6,4,6,7,4,2,4,8,4]\n",
        "Output: 4\n",
        "\n",
        "7. Below are the two lists. Write a Python program to convert them into a dictionary in a way that item from list1 is the key and item from list2 is the value by using update method ().\n",
        "keys = ['Ten', 'Twenty', 'Thirty']\n",
        "values = [10, 20, 30]\n",
        "Output:\n",
        "{'Ten': 10, 'Twenty': 20, 'Thirty': 30}\n",
        "\n",
        "8. Create a list of 10 members as a Voter_list. Assume that there are 3 Candidates (A, B & C) are going to contest in the election process. Write a program that voters will cast their votes and predict the Winner and Runner of the election process and to find the members who voted for the Winner and Runner.\n",
        "\n",
        "9. Write a program to calculate the following functions:\n",
        "\t1. India (Rupee) to US (Dollar) conversion\n",
        "\t2. Celsius to Fahrenheit\n",
        "\t3. BMI Calculation\n",
        "\t4. Simple Interest Calculation\n",
        "\n",
        "10. Write a program to get 0s and 1s in the list:\n",
        "\tEg: Input list= [0,1,0,1,1,0,1,0,1,0]\n",
        "\tOutput:\n",
        "\t\t[0,0,0,0,0,1,1,1,1,1]\n",
        "\n",
        "\n",
        "\n"
      ],
      "metadata": {
        "id": "tYE4KCQZayx6"
      }
    },
    {
      "cell_type": "markdown",
      "source": [
        "Create a list of first 10 natural numbers. And write a program to find the lists of odd numbers and even numbers separately. And, to find the square of its odd and even lists"
      ],
      "metadata": {
        "id": "Lgvf88ZUbJXo"
      }
    },
    {
      "cell_type": "code",
      "source": [
        "a=[int(x)for x in input().split()]\n",
        "b=[]\n",
        "c=[]\n",
        "for i in a:\n",
        "    if i%2==0:\n",
        "        b.append(i)\n",
        "    else:\n",
        "        c.append(i)\n",
        "print(\"The even list is:\",b)\n",
        "print(\"The odd list is:\",c)\n",
        "d=[x**2 for x in b]\n",
        "e=[x**2 for x in c]\n",
        "print(\"Square of even list:\",d)\n",
        "print(\"Square of odd list:\",e)\n"
      ],
      "metadata": {
        "colab": {
          "base_uri": "https://localhost:8080/"
        },
        "id": "6PvMvLNNbdQ3",
        "outputId": "54b535a2-1816-48a8-952f-29bb188c862b"
      },
      "execution_count": 1,
      "outputs": [
        {
          "output_type": "stream",
          "name": "stdout",
          "text": [
            "1 2 3 4 5 6 7 8 9 10\n",
            "The even list is: [2, 4, 6, 8, 10]\n",
            "The odd list is: [1, 3, 5, 7, 9]\n",
            "Square of even list: [4, 16, 36, 64, 100]\n",
            "Square of odd list: [1, 9, 25, 49, 81]\n"
          ]
        }
      ]
    },
    {
      "cell_type": "markdown",
      "source": [
        "Write a program to find the largest and smallest number in the list without using the in-built function."
      ],
      "metadata": {
        "id": "JWQWxbjSb614"
      }
    },
    {
      "cell_type": "code",
      "source": [
        "a=[int(x)for x in input().split()]\n",
        "for i in range(len(a)):\n",
        "    for j in range(i+1,len(a)):\n",
        "        if a[i]>a[j]:\n",
        "            a[i],a[j]=a[j],a[i]\n",
        "print(a)\n",
        "print(\"The smallest element in the array is:\",a[0])\n",
        "print(\"The largest element in the array is:\",a[-1])\n"
      ],
      "metadata": {
        "colab": {
          "base_uri": "https://localhost:8080/"
        },
        "id": "Q-KxgrxAb9sO",
        "outputId": "03d417c9-32cb-4cb4-b8b6-1683637e27d7"
      },
      "execution_count": 11,
      "outputs": [
        {
          "output_type": "stream",
          "name": "stdout",
          "text": [
            "9 7 8 2 5 1\n",
            "[1, 2, 5, 7, 8, 9]\n",
            "The smallest element in the array is: 1\n",
            "The largest element in the array is: 9\n"
          ]
        }
      ]
    },
    {
      "cell_type": "markdown",
      "source": [
        "Write a program to find the second largest and second smallest number in the list without using the in-built function."
      ],
      "metadata": {
        "id": "VbIvSoSofgh2"
      }
    },
    {
      "cell_type": "code",
      "source": [
        "a=[int(x)for x in input().split()]\n",
        "for i in range(len(a)):\n",
        "    for j in range(i+1,len(a)):\n",
        "        if a[i]>a[j]:\n",
        "            a[i],a[j]=a[j],a[i]\n",
        "print(a)\n",
        "print(\"The second smallest element in the array is:\",a[1])\n",
        "print(\"The second largest element in the array is:\",a[-2])"
      ],
      "metadata": {
        "colab": {
          "base_uri": "https://localhost:8080/"
        },
        "id": "tBqViPpPffsI",
        "outputId": "9d308305-3b1f-44d4-ee15-a3694af7f79e"
      },
      "execution_count": 12,
      "outputs": [
        {
          "output_type": "stream",
          "name": "stdout",
          "text": [
            "9 7 8 2 5 1\n",
            "[1, 2, 5, 7, 8, 9]\n",
            "The second smallest element in the array is: 2\n",
            "The second largest element in the array is: 8\n"
          ]
        }
      ]
    },
    {
      "cell_type": "markdown",
      "source": [
        "Write a program to sort elements stored in the list as Ascending order and Descending order without using the in-built function (sort ()).\n",
        "Eg: [5,3,7,9,8,4,2] Output: [2,3,4,5,7,8,9] – Ascending Order, [9,8,7,5,4,3,2] – Descending Order"
      ],
      "metadata": {
        "id": "t6twxxDKgQUN"
      }
    },
    {
      "cell_type": "code",
      "source": [
        "a=[int(x)for x in input().split()]\n",
        "for i in range(len(a)):\n",
        "    for j in range(i+1,len(a)):\n",
        "        if a[i]>a[j]:\n",
        "            a[i],a[j]=a[j],a[i]\n",
        "print(f\"{a}-Ascending order\")\n",
        "c=a[::-1]\n",
        "print(f\"{c}-Descending order\")"
      ],
      "metadata": {
        "colab": {
          "base_uri": "https://localhost:8080/"
        },
        "id": "M1dQ0ztagUv1",
        "outputId": "0cc0dfd0-0149-4d60-e825-ff8d3ac5beb4"
      },
      "execution_count": 14,
      "outputs": [
        {
          "output_type": "stream",
          "name": "stdout",
          "text": [
            "5 3 7 9 8 4 2\n",
            "[2, 3, 4, 5, 7, 8, 9]-Ascending order\n",
            "[9, 8, 7, 5, 4, 3, 2]-Descending order\n"
          ]
        }
      ]
    },
    {
      "cell_type": "markdown",
      "source": [
        "Find the index position of the specific number stored in the list. Eg: a= [45,67,83,24,55,87,77,34] What is the position of 55? Output: 4"
      ],
      "metadata": {
        "id": "e4RKl9KOha-k"
      }
    },
    {
      "cell_type": "code",
      "source": [
        "a=[int(x)for x in input().split()]\n",
        "b=int(input(\"\"))\n",
        "for i in a:\n",
        "  if i==b:\n",
        "    print(f\"The index position of {b} is {a.index(i)}\")"
      ],
      "metadata": {
        "colab": {
          "base_uri": "https://localhost:8080/"
        },
        "id": "UZAROn6zher6",
        "outputId": "47de2606-2aa1-4b3c-d46d-dbbd356a9ca4"
      },
      "execution_count": 21,
      "outputs": [
        {
          "output_type": "stream",
          "name": "stdout",
          "text": [
            "45 67 83 24 55 87 77 34\n",
            "55\n",
            "The index position of 55 is 7\n"
          ]
        }
      ]
    },
    {
      "cell_type": "markdown",
      "source": [
        "Find most frequent element present in a list. Eg: a= [4,5,6,4,6,7,4,2,4,8,4] Output: 4"
      ],
      "metadata": {
        "id": "gPjKHYu2kgwu"
      }
    },
    {
      "cell_type": "code",
      "source": [
        "a=[int(x)for x in input().split()]\n",
        "frequentelement=0\n",
        "for i in a:\n",
        "  count=a.count(i)\n",
        "  if count>frequentelement:\n",
        "    frequentelement=count\n",
        "    print(\"The frequent element is:\",i)\n"
      ],
      "metadata": {
        "colab": {
          "base_uri": "https://localhost:8080/"
        },
        "id": "puCVx4eykmHr",
        "outputId": "40adcbdb-b93b-445a-85af-e66fe302ccfe"
      },
      "execution_count": 30,
      "outputs": [
        {
          "output_type": "stream",
          "name": "stdout",
          "text": [
            "4 5 6 4 6 7 4 2 4 8 4\n",
            "The frequent element is: 4\n"
          ]
        }
      ]
    },
    {
      "cell_type": "markdown",
      "source": [
        "Below are the two lists. Write a Python program to convert them into a dictionary in a way that item from list1 is the key and item from list2 is the value by using update method (). keys = ['Ten', 'Twenty', 'Thirty'] values = [10, 20, 30] Output: {'Ten': 10, 'Twenty': 20, 'Thirty': 30}"
      ],
      "metadata": {
        "id": "-cp6mYdvpinQ"
      }
    },
    {
      "cell_type": "code",
      "source": [
        "a=[str(x)for x in input().split()]\n",
        "b=[int(x)for x in input().split()]\n",
        "c=dict(zip(a,b))\n",
        "print(c)\n"
      ],
      "metadata": {
        "colab": {
          "base_uri": "https://localhost:8080/"
        },
        "id": "6hWO_qglplYX",
        "outputId": "38a12919-9209-4465-d8f0-04e37b4727ab"
      },
      "execution_count": 36,
      "outputs": [
        {
          "output_type": "stream",
          "name": "stdout",
          "text": [
            "ten twenty thirty \n",
            "10 20 30\n",
            "{'ten': 10, 'twenty': 20, 'thirty': 30}\n"
          ]
        }
      ]
    },
    {
      "cell_type": "markdown",
      "source": [
        "Create a list of 10 members as a Voter_list. Assume that there are 3 Candidates (A, B & C) are going to contest in the election process. Write a program that voters will cast their votes and predict the Winner and Runner of the election process and to find the members who voted for the Winner and Runner."
      ],
      "metadata": {
        "id": "Msyj03oDsAcV"
      }
    },
    {
      "cell_type": "code",
      "source": [
        "a=[\"ramu\",\"ravi\",\"ragul\",\"vimal\",\"deva\",\"nithin\",\"naghul\",\"midhun\",\"david\",\"akash\"]\n",
        "v=0\n",
        "h=0\n",
        "r=0\n",
        "n=0\n",
        "vv=[]\n",
        "dd=[]\n",
        "rr=[]\n",
        "nn=[]\n",
        "print(\"Name of the voters:\",a)\n",
        "print('''\n",
        "      for virat press 1\n",
        "      for dhoni press 2\n",
        "      for rohit press 3\n",
        "      for nota press 4''')\n",
        "for i in a:\n",
        "    vote=int(input(f\"{i} enter your option:\"))\n",
        "    j=vote\n",
        "    if j==1:\n",
        "        v+=1\n",
        "        vv.append(i)\n",
        "    elif j==2:\n",
        "        h+=1\n",
        "        dd.append(i)\n",
        "    elif j==3:\n",
        "        r+=1\n",
        "        rr.append(i)\n",
        "    elif j==4:\n",
        "        n+=1\n",
        "        nn.append(i)\n",
        "    else:\n",
        "        print(\"Enter valid input\")\n",
        "if(v>h and v>r and v>n):\n",
        "    print(f\"Virat is the winner with {v} votes\")\n",
        "    print(vv)\n",
        "elif(h>v and h>r and h>n):\n",
        "    print(f\"Dhoni is the winner with {h} votes\")\n",
        "    print(dd)\n",
        "elif(r>v and r>h and r>n):\n",
        "    print(f\"Rohit is the winner with {r} votes\")\n",
        "    print(rr)\n",
        "elif(n>v and n>h and n>r):\n",
        "    print(f\"Nota is the winner with {n} votes\")\n",
        "    print(nn)\n",
        "else:\n",
        "    print(\"No winner\")"
      ],
      "metadata": {
        "colab": {
          "base_uri": "https://localhost:8080/"
        },
        "id": "pWR54-XMscns",
        "outputId": "e92a5f45-3380-49d6-c83a-5b20ffae4325"
      },
      "execution_count": 41,
      "outputs": [
        {
          "output_type": "stream",
          "name": "stdout",
          "text": [
            "Name of the voters: ['ramu', 'ravi', 'ragul', 'vimal', 'deva', 'nithin', 'naghul', 'midhun', 'david', 'akash']\n",
            "\n",
            "      for virat press 1\n",
            "      for dhoni press 2\n",
            "      for rohit press 3\n",
            "      for nota press 4\n",
            "ramu enter your option:1\n",
            "ravi enter your option:2\n",
            "ragul enter your option:3\n",
            "vimal enter your option:4\n",
            "deva enter your option:2\n",
            "nithin enter your option:2\n",
            "naghul enter your option:2\n",
            "midhun enter your option:2\n",
            "david enter your option:1\n",
            "akash enter your option:5\n",
            "Enter valid input\n",
            "Dhoni is the winner with 5 votes\n",
            "['ravi', 'deva', 'nithin', 'naghul', 'midhun']\n"
          ]
        }
      ]
    },
    {
      "cell_type": "markdown",
      "source": [
        "Write a program to calculate the following functions:\n",
        "\n",
        "India (Rupee) to US (Dollar) conversion\n",
        "Celsius to Fahrenheit\n",
        "BMI Calculation\n",
        "Simple Interest Calculation"
      ],
      "metadata": {
        "id": "wkWgevVCuJtq"
      }
    },
    {
      "cell_type": "code",
      "source": [
        "def rupee_to_dollar(rupees):\n",
        "  dollars = rupees / 75\n",
        "  print(f\"{rupees} rupees is equal to {dollars:.2f} dollars.\")\n",
        "def celsius_to_fahrenheit(celsius):\n",
        "  fahrenheit = (celsius * 9/5) + 32\n",
        "  print(f\"{celsius} degrees Celsius is equal to {fahrenheit:.2f} degrees Fahrenheit.\")\n",
        "\n",
        "def bmi_calculation(weight, height):\n",
        "  bmi = weight / (height * height)\n",
        "  print(f\"Your BMI is {bmi:.2f}.\")\n",
        "\n",
        "\n",
        "def simple_interest_calculation(principal, rate, time):\n",
        "  simple_interest = (principal * rate * time) / 100\n",
        "  print(f\"Your BMI is {bmi:.2f}.\")\n",
        "print(f\"The simple interest is {simple_interest:.2f}.\")\n",
        "\n",
        "rupees = float(input(\"Enter the amount in rupees: \"))\n",
        "celsius = float(input(\"Enter the temperature in Celsius: \"))\n",
        "weight = float(input(\"Enter your weight in kilograms: \"))\n",
        "height = float(input(\"Enter your height in meters: \"))\n",
        "principal = float(input(\"Enter the principal amount: \"))\n",
        "rate = float(input(\"Enter the rate of interest: \"))\n",
        "time = float(input(\"Enter the time period in years: \"))\n",
        "dollars = rupee_to_dollar(rupees)\n",
        "fahrenheit = celsius_to_fahrenheit(celsius)\n",
        "bmi = bmi_calculation(weight, height)\n",
        "simple_interest = simple_interest_calculation(principal, rate, time)"
      ],
      "metadata": {
        "id": "4mg3P7wC5QO9"
      },
      "execution_count": null,
      "outputs": []
    },
    {
      "cell_type": "markdown",
      "source": [
        "Write a program to get 0s and 1s in the list: Eg: Input list= [0,1,0,1,1,0,1,0,1,0] Output:\n",
        "\n",
        "[0,0,0,0,0,1,1,1,1,1]"
      ],
      "metadata": {
        "id": "30-aB3eX4sW1"
      }
    },
    {
      "cell_type": "code",
      "source": [
        "list1 = [0,1,0,1,1,0,1,0,1,0]\n",
        "list2 = [x for x in list1 if x == 1]\n",
        "list3 = [0] * len(list2)\n",
        "print(list3+list2)\n"
      ],
      "metadata": {
        "colab": {
          "base_uri": "https://localhost:8080/"
        },
        "id": "hT4ds1HS4vNt",
        "outputId": "21ac6022-6681-473d-b00e-9a69927b22fb"
      },
      "execution_count": 47,
      "outputs": [
        {
          "output_type": "stream",
          "name": "stdout",
          "text": [
            "[0, 0, 0, 0, 0, 1, 1, 1, 1, 1]\n"
          ]
        }
      ]
    }
  ]
}