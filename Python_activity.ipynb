{
  "nbformat": 4,
  "nbformat_minor": 0,
  "metadata": {
    "colab": {
      "provenance": [],
      "authorship_tag": "ABX9TyOPwEHoQMPx0+uZzegmEyfM",
      "include_colab_link": true
    },
    "kernelspec": {
      "name": "python3",
      "display_name": "Python 3"
    },
    "language_info": {
      "name": "python"
    }
  },
  "cells": [
    {
      "cell_type": "markdown",
      "metadata": {
        "id": "view-in-github",
        "colab_type": "text"
      },
      "source": [
        "<a href=\"https://colab.research.google.com/github/Dhivyakanth/C-program-/blob/main/Python_activity.ipynb\" target=\"_parent\"><img src=\"https://colab.research.google.com/assets/colab-badge.svg\" alt=\"Open In Colab\"/></a>"
      ]
    },
    {
      "cell_type": "markdown",
      "source": [
        "1.\tWrite a program that generates a stream of random numbers and writes them to a file.\n",
        "2.\tWrite a program to read the random numbers from the file created above and calculate their average.\n",
        "3.\tWrite a program that reads from a file and handles the case where the file does not exist.\n",
        "4.\tCreate a user-defined exception NegativeNumberError that is raised when a negative number is encountered in a list.\n",
        "5.\tCreate a NumPy array of 10 random numbers and print them.\n",
        "6.\tWrite a program to add and remove items from a NumPy array.\n",
        "7.\tSort the NumPy array which you created.\n",
        "8.\tReshape a NumPy array into a 2x5 matrix.\n",
        "9.\tDemonstrate indexing and slicing on the reshaped matrix.\n",
        "10.\tWrite a program to append new data to an existing file and then read the updated file.\n"
      ],
      "metadata": {
        "id": "P0TToC-2wb-6"
      }
    },
    {
      "cell_type": "markdown",
      "source": [
        "Write a program that generates a stream of random numbers and writes them to a file."
      ],
      "metadata": {
        "id": "35oRRqbvwqlO"
      }
    },
    {
      "cell_type": "code",
      "execution_count": null,
      "metadata": {
        "id": "y6_Fu_TawREA"
      },
      "outputs": [],
      "source": [
        "import random\n",
        "with open('Random_numbers.txt','w') as a:\n",
        "  for i in range(20):\n",
        "    Random_number = random.randint(1, 100)\n",
        "    a.write(str(Random_number) + '\\n')\n"
      ]
    },
    {
      "cell_type": "markdown",
      "source": [
        "Write a program to read the random numbers from the file created above and calculate their average."
      ],
      "metadata": {
        "id": "9Qct6dfKxUDP"
      }
    },
    {
      "cell_type": "code",
      "source": [
        "import random\n",
        "with open('Random_numbers.txt', 'r') as a:\n",
        "    numbers = [float(line.strip()) for line in a]\n",
        "average = sum(numbers) / len(numbers)\n",
        "print(f'Average of random numbers:{average}')"
      ],
      "metadata": {
        "id": "hVGCvX_ux8Fk"
      },
      "execution_count": null,
      "outputs": []
    },
    {
      "cell_type": "markdown",
      "source": [
        "Write a program that reads from a file and handles the case where the file does not exist."
      ],
      "metadata": {
        "id": "FMt9hjtJx4Rv"
      }
    },
    {
      "cell_type": "code",
      "source": [
        "name=input(\"Enter the file name:\")\n",
        "try:\n",
        "  with open(name, 'r') as a:\n",
        "    print(\"File content:\",a.read())\n",
        "except FileNotFoundError:\n",
        "  print(f\"The file '{name}' does not exist.\")\n",
        "\n"
      ],
      "metadata": {
        "id": "a0h0ZDg_yWp4"
      },
      "execution_count": null,
      "outputs": []
    },
    {
      "cell_type": "markdown",
      "source": [
        "Create a user-defined exception NegativeNumberError that is raised when a negative number is encountered in a list."
      ],
      "metadata": {
        "id": "dA3B1Ys8zHIi"
      }
    },
    {
      "cell_type": "code",
      "source": [
        "try:\n",
        "    list1 = [1, 2, -3 , 4, 5]\n",
        "    for i in list1:\n",
        "        if i<0:\n",
        "            raise ValueError(\"Negative number encountered\")\n",
        "    print(\"All numbers are non-negative.\")\n",
        "except ValueError as e:\n",
        "    print(e)\n"
      ],
      "metadata": {
        "id": "0XXLEU2AzgFm"
      },
      "execution_count": null,
      "outputs": []
    },
    {
      "cell_type": "markdown",
      "source": [
        "Create a NumPy array of 10 random numbers and print them."
      ],
      "metadata": {
        "id": "dpln0I0r0LHw"
      }
    },
    {
      "cell_type": "code",
      "source": [
        "import random\n",
        "import numpy as np\n",
        "a=np.random.randint(0,50,size=10)\n",
        "print(a)\n"
      ],
      "metadata": {
        "id": "7X0WWe1U0Q7f"
      },
      "execution_count": null,
      "outputs": []
    },
    {
      "cell_type": "markdown",
      "source": [
        "Write a program to add and remove items from a NumPy array."
      ],
      "metadata": {
        "id": "YnvCLvKB2V8p"
      }
    },
    {
      "cell_type": "code",
      "source": [
        "import numpy as np\n",
        "a=[1,2,3,4,5,6,7]\n",
        "print(\"original array is:\",np.array(a))\n",
        "b=np.append(a,10)\n",
        "print(b)\n",
        "print(np.delete(b,4))\n"
      ],
      "metadata": {
        "id": "qev655eT2i3C"
      },
      "execution_count": null,
      "outputs": []
    },
    {
      "cell_type": "markdown",
      "source": [
        "Sort the NumPy array which you created."
      ],
      "metadata": {
        "id": "ndUBt4y23COR"
      }
    },
    {
      "cell_type": "code",
      "source": [
        "# prompt: Sort the NumPy array which you created.\n",
        "\n",
        "a=[34,23,89,56,45,76,6]\n",
        "print(\"original array is:\",np.array(a))\n",
        "a.sort()\n",
        "print(a)\n"
      ],
      "metadata": {
        "id": "0WJrj-TZ3G9i"
      },
      "execution_count": null,
      "outputs": []
    },
    {
      "cell_type": "markdown",
      "source": [
        "Reshape a NumPy array into a 2x5 matrix."
      ],
      "metadata": {
        "id": "KYpJzDYk3ZWU"
      }
    },
    {
      "cell_type": "code",
      "source": [
        "import numpy as np\n",
        "a=[90,26,4,89,34,67,23,56,76,43]\n",
        "b=np.array(a)\n",
        "c=b.reshape(2,5)\n",
        "print(c)\n"
      ],
      "metadata": {
        "id": "udGZxZ3Z3aeT"
      },
      "execution_count": null,
      "outputs": []
    },
    {
      "cell_type": "markdown",
      "source": [
        "Demonstrate indexing and slicing on the reshaped matrix."
      ],
      "metadata": {
        "id": "ltziVVKK3qgN"
      }
    },
    {
      "cell_type": "code",
      "source": [
        "import numpy as np\n",
        "a=[90,26,4,89,34,67,23,56,76,43]\n",
        "b=np.array(a)\n",
        "c=b.reshape(2,5)\n",
        "print(c)\n",
        "print(c[1,3])\n",
        "print(c[0,1:4])\n"
      ],
      "metadata": {
        "id": "F40i5_8k3rQ0"
      },
      "execution_count": null,
      "outputs": []
    },
    {
      "cell_type": "markdown",
      "source": [
        "Write a program to append new data to an existing file and then read the updated file."
      ],
      "metadata": {
        "id": "I6cmxIUp30VE"
      }
    },
    {
      "cell_type": "code",
      "source": [
        "with open('data.txt', 'a') as f:\n",
        "  f.write('\\nWelcome to python class.')\n",
        "with open('data.txt', 'r') as f:\n",
        "  for line in f:\n",
        "    print(line.strip())\n"
      ],
      "metadata": {
        "id": "hNn_vFeG32Qu"
      },
      "execution_count": null,
      "outputs": []
    }
  ]
}